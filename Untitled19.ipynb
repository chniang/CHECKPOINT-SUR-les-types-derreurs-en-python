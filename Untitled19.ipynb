{
 "cells": [
  {
   "cell_type": "code",
   "execution_count": null,
   "id": "fae38779-7f1d-413d-9e2d-d83c4633004d",
   "metadata": {},
   "outputs": [],
   "source": [
    "mylist = [14, \"hello\", 967]\n",
    "\n",
    "# Tentative d'accès à l'index 6\n",
    "try:\n",
    "    print(mylist[6])\n",
    "except IndexError:\n",
    "    print(\"IndexError: L'index 6 est hors de portée pour la liste.\")\n",
    "# #explication de lerreur:\n",
    "# L’erreur IndexError: list index out of range signifie que vous essayez \n",
    "# d’accéder à un index qui n’existe pas dans la liste. Dans votre cas, \n",
    "# mylist ne contient que 3 éléments (indices 0, 1 et 2), donc l’index 6 est hors de portée."
   ]
  },
  {
   "cell_type": "code",
   "execution_count": null,
   "id": "235864b6-695d-4c4b-bc4c-709f1075aef8",
   "metadata": {},
   "outputs": [],
   "source": [
    "#L’erreur ImportError: No module named Pandas se produit lorsque le module Pandas n’est pas installé dans\n",
    "#votre environnement Python actuel\n",
    "# Installer les modules si nécessaire\n",
    "!pip install pandas numpy\n",
    "\n",
    "# Importer les modules\n",
    "import pandas as pd\n",
    "import numpy as np\n",
    "\n",
    "# Vérifier les versions installées\n",
    "print(pd.__version__)\n",
    "print(np.__version__)\n"
   ]
  },
  {
   "cell_type": "code",
   "execution_count": null,
   "id": "4411aed4-769a-4ead-8c71-d85db7f29e41",
   "metadata": {},
   "outputs": [],
   "source": [
    "#L’erreur SyntaxError: invalid syntax se produit parce que la syntaxe utilisée pour la fonction print est incorrecte.\n",
    "print(\"hello world\")\n"
   ]
  },
  {
   "cell_type": "code",
   "execution_count": null,
   "id": "b8d37927-6660-46ba-9331-fb2e74800b9d",
   "metadata": {},
   "outputs": [],
   "source": [
    "# #L’erreur KeyError: 'True' se produit parce que vous essayez d’accéder à une clé qui n’existe pas dans le dictionnaire. \n",
    "# Dans votre dictionnaire, les clés sont True, False, et '3', mais vous essayez d’accéder\n",
    "# à la clé 'True' (une chaîne de caractères), qui n’existe pas.\n",
    "mydictionnary = {True: \"hello\", False: \"bye\", '3': \"python\"}\n",
    "\n",
    "# Accéder à la clé True\n",
    "print(mydictionnary[True])  # Affiche \"hello\"\n",
    "\n",
    "# Accéder à la clé '3'\n",
    "print(mydictionnary['3'])  # Affiche \"python\"\n",
    "\n",
    "# Ajouter et accéder à une nouvelle clé 'True'\n",
    "mydictionnary['True'] = \"new value\"\n",
    "print(mydictionnary['True'])  # Affiche \"new value\"\n"
   ]
  },
  {
   "cell_type": "code",
   "execution_count": null,
   "id": "ba218d08-2dfe-45c7-8375-b55b3998ac85",
   "metadata": {},
   "outputs": [],
   "source": [
    "# L’erreur IndentationError: expected an indented block se produit lorsque Python s’attend à une indentation\n",
    "# (un bloc de code indenté) mais ne la trouve pas. Cela arrive souvent dans les structures de contrôle comme les boucles,\n",
    "# les conditions, les fonctions, etc.\n",
    "i = 14\n",
    "while i < 78:\n",
    "    print(i)  # Correctement indenté\n",
    "    i += 1  # Correctement indenté\n",
    "\n"
   ]
  }
 ],
 "metadata": {
  "kernelspec": {
   "display_name": "Python 3 (ipykernel)",
   "language": "python",
   "name": "python3"
  },
  "language_info": {
   "codemirror_mode": {
    "name": "ipython",
    "version": 3
   },
   "file_extension": ".py",
   "mimetype": "text/x-python",
   "name": "python",
   "nbconvert_exporter": "python",
   "pygments_lexer": "ipython3",
   "version": "3.12.4"
  }
 },
 "nbformat": 4,
 "nbformat_minor": 5
}
